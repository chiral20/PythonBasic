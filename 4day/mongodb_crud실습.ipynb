{
 "cells": [
  {
   "cell_type": "code",
   "execution_count": 1,
   "metadata": {
    "collapsed": true
   },
   "outputs": [],
   "source": [
    "import pymongo\n",
    "from pymongo import MongoClient"
   ]
  },
  {
   "cell_type": "code",
   "execution_count": 2,
   "metadata": {
    "collapsed": true
   },
   "outputs": [],
   "source": [
    "# MongoClient 생성(Mongodb  와 연결을 담당)\n",
    "client  = MongoClient('localhost', 27017) \n",
    "# MongoClient 생성(Mongodb URL  포맷을 이용할 수도 있음)\n",
    "# client  = MongoClient('mongodb://localhost:27017')"
   ]
  },
  {
   "cell_type": "code",
   "execution_count": 3,
   "metadata": {
    "collapsed": true
   },
   "outputs": [],
   "source": [
    "# 데이터베이스생성\n",
    "db = client.sample"
   ]
  },
  {
   "cell_type": "code",
   "execution_count": 5,
   "metadata": {
    "collapsed": true
   },
   "outputs": [],
   "source": [
    "# 컬렉션 생성\n",
    "collection = db.test"
   ]
  },
  {
   "cell_type": "code",
   "execution_count": 6,
   "metadata": {
    "collapsed": true
   },
   "outputs": [],
   "source": [
    "# collection.insert() #deprecated"
   ]
  },
  {
   "cell_type": "code",
   "execution_count": 7,
   "metadata": {},
   "outputs": [
    {
     "data": {
      "text/plain": [
       "<pymongo.results.InsertOneResult at 0x74c2588>"
      ]
     },
     "execution_count": 7,
     "metadata": {},
     "output_type": "execute_result"
    }
   ],
   "source": [
    "collection.insert_one( { '이름':'이진욱', '직업':'IT개발자'})"
   ]
  },
  {
   "cell_type": "code",
   "execution_count": 8,
   "metadata": {},
   "outputs": [
    {
     "name": "stderr",
     "output_type": "stream",
     "text": [
      "C:\\Users\\student\\Anaconda3\\lib\\site-packages\\ipykernel_launcher.py:1: DeprecationWarning: insert is deprecated. Use insert_one or insert_many instead.\n",
      "  \"\"\"Entry point for launching an IPython kernel.\n"
     ]
    },
    {
     "data": {
      "text/plain": [
       "ObjectId('5c89fb74f75cb8143c935f1c')"
      ]
     },
     "execution_count": 8,
     "metadata": {},
     "output_type": "execute_result"
    }
   ],
   "source": [
    "collection.insert( { '이름':'주지훈', '직업':'배우'})"
   ]
  },
  {
   "cell_type": "code",
   "execution_count": 9,
   "metadata": {},
   "outputs": [
    {
     "data": {
      "text/plain": [
       "<pymongo.results.InsertManyResult at 0x7568288>"
      ]
     },
     "execution_count": 9,
     "metadata": {},
     "output_type": "execute_result"
    }
   ],
   "source": [
    "collection.insert_many( [\n",
    "    { '이름':'표선영', '직업':'강사'},\n",
    "    { '이름':'현빈', '직업':'배우'},\n",
    "    { '이름':'손예진', '직업':'IT개발자'},\n",
    "    { '이름':'조상우', '직업':'데이터분석자'},\n",
    "    { '이름':'현빈', '직업':'IT개발자'}\n",
    "])  "
   ]
  },
  {
   "cell_type": "code",
   "execution_count": 10,
   "metadata": {},
   "outputs": [
    {
     "name": "stdout",
     "output_type": "stream",
     "text": [
      "{'_id': ObjectId('5c89fb55f75cb8143c935f1b'), '이름': '이진욱', '직업': 'IT개발자'}\n",
      "{'_id': ObjectId('5c89fb74f75cb8143c935f1c'), '이름': '주지훈', '직업': '배우'}\n",
      "{'_id': ObjectId('5c89fc1bf75cb8143c935f1d'), '이름': '표선영', '직업': '강사'}\n",
      "{'_id': ObjectId('5c89fc1bf75cb8143c935f1e'), '이름': '현빈', '직업': '배우'}\n",
      "{'_id': ObjectId('5c89fc1bf75cb8143c935f1f'), '이름': '손예진', '직업': 'IT개발자'}\n",
      "{'_id': ObjectId('5c89fc1bf75cb8143c935f20'), '이름': '조상우', '직업': '데이터분석자'}\n",
      "{'_id': ObjectId('5c89fc1bf75cb8143c935f21'), '이름': '현빈', '직업': 'IT개발자'}\n"
     ]
    }
   ],
   "source": [
    "for item in collection.find():\n",
    "    print(item) "
   ]
  },
  {
   "cell_type": "code",
   "execution_count": 11,
   "metadata": {},
   "outputs": [
    {
     "data": {
      "text/plain": [
       "{'_id': ObjectId('5c89fb55f75cb8143c935f1b'), '이름': '이진욱', '직업': 'IT개발자'}"
      ]
     },
     "execution_count": 11,
     "metadata": {},
     "output_type": "execute_result"
    }
   ],
   "source": [
    "collection.find_one({'이름':'이진욱'})"
   ]
  },
  {
   "cell_type": "code",
   "execution_count": 12,
   "metadata": {},
   "outputs": [
    {
     "name": "stdout",
     "output_type": "stream",
     "text": [
      "{'_id': ObjectId('5c89fc1bf75cb8143c935f1f'), '이름': '손예진', '직업': 'IT개발자'}\n",
      "{'_id': ObjectId('5c89fb55f75cb8143c935f1b'), '이름': '이진욱', '직업': 'IT개발자'}\n",
      "{'_id': ObjectId('5c89fc1bf75cb8143c935f20'), '이름': '조상우', '직업': '데이터분석자'}\n",
      "{'_id': ObjectId('5c89fb74f75cb8143c935f1c'), '이름': '주지훈', '직업': '배우'}\n",
      "{'_id': ObjectId('5c89fc1bf75cb8143c935f1d'), '이름': '표선영', '직업': '강사'}\n",
      "{'_id': ObjectId('5c89fc1bf75cb8143c935f1e'), '이름': '현빈', '직업': '배우'}\n",
      "{'_id': ObjectId('5c89fc1bf75cb8143c935f21'), '이름': '현빈', '직업': 'IT개발자'}\n"
     ]
    }
   ],
   "source": [
    "for item in collection.find().sort('이름'):\n",
    "    print(item)"
   ]
  },
  {
   "cell_type": "code",
   "execution_count": 13,
   "metadata": {},
   "outputs": [
    {
     "name": "stdout",
     "output_type": "stream",
     "text": [
      "{'_id': ObjectId('5c89fc1bf75cb8143c935f1e'), '이름': '현빈', '직업': '배우'}\n",
      "{'_id': ObjectId('5c89fc1bf75cb8143c935f21'), '이름': '현빈', '직업': 'IT개발자'}\n",
      "{'_id': ObjectId('5c89fc1bf75cb8143c935f1d'), '이름': '표선영', '직업': '강사'}\n",
      "{'_id': ObjectId('5c89fb74f75cb8143c935f1c'), '이름': '주지훈', '직업': '배우'}\n",
      "{'_id': ObjectId('5c89fc1bf75cb8143c935f20'), '이름': '조상우', '직업': '데이터분석자'}\n",
      "{'_id': ObjectId('5c89fb55f75cb8143c935f1b'), '이름': '이진욱', '직업': 'IT개발자'}\n",
      "{'_id': ObjectId('5c89fc1bf75cb8143c935f1f'), '이름': '손예진', '직업': 'IT개발자'}\n"
     ]
    }
   ],
   "source": [
    "for item in collection.find().sort('이름', pymongo.DESCENDING):\n",
    "    print(item)"
   ]
  },
  {
   "cell_type": "code",
   "execution_count": 16,
   "metadata": {},
   "outputs": [
    {
     "name": "stdout",
     "output_type": "stream",
     "text": [
      "{'_id': ObjectId('5c89fc1bf75cb8143c935f1f'), '이름': '손예진', '직업': 'IT개발자'}\n",
      "{'_id': ObjectId('5c89fb55f75cb8143c935f1b'), '이름': '이진욱', '직업': 'IT운영자'}\n",
      "{'_id': ObjectId('5c89fc1bf75cb8143c935f20'), '이름': '조상우', '직업': '데이터분석자'}\n",
      "{'_id': ObjectId('5c89fb74f75cb8143c935f1c'), '이름': '주지훈', '직업': '배우'}\n",
      "{'_id': ObjectId('5c89fc1bf75cb8143c935f1d'), '이름': '표선영', '직업': '강사'}\n",
      "{'_id': ObjectId('5c89fc1bf75cb8143c935f1e'), '이름': '현빈', '직업': '배우'}\n",
      "{'_id': ObjectId('5c89fc1bf75cb8143c935f21'), '이름': '현빈', '직업': 'IT개발자'}\n"
     ]
    }
   ],
   "source": [
    "for item in collection.find().sort('이름', pymongo.ASCENDING):\n",
    "    print(item)"
   ]
  },
  {
   "cell_type": "code",
   "execution_count": 15,
   "metadata": {},
   "outputs": [
    {
     "data": {
      "text/plain": [
       "<pymongo.results.UpdateResult at 0x75804c8>"
      ]
     },
     "execution_count": 15,
     "metadata": {},
     "output_type": "execute_result"
    }
   ],
   "source": [
    "collection.update_one( {'이름':'이진욱'}, \n",
    "                      { '$set' : {'직업':'IT운영자'}}) "
   ]
  },
  {
   "cell_type": "code",
   "execution_count": 17,
   "metadata": {},
   "outputs": [
    {
     "data": {
      "text/plain": [
       "<pymongo.results.UpdateResult at 0x75df648>"
      ]
     },
     "execution_count": 17,
     "metadata": {},
     "output_type": "execute_result"
    }
   ],
   "source": [
    "collection.update_many({'직업':'배우'}, \n",
    "                      { '$set' : {'직업':'연예인'}} ) "
   ]
  },
  {
   "cell_type": "code",
   "execution_count": 18,
   "metadata": {},
   "outputs": [
    {
     "name": "stdout",
     "output_type": "stream",
     "text": [
      "{'_id': ObjectId('5c89fc1bf75cb8143c935f1f'), '이름': '손예진', '직업': 'IT개발자'}\n",
      "{'_id': ObjectId('5c89fb55f75cb8143c935f1b'), '이름': '이진욱', '직업': 'IT운영자'}\n",
      "{'_id': ObjectId('5c89fc1bf75cb8143c935f20'), '이름': '조상우', '직업': '데이터분석자'}\n",
      "{'_id': ObjectId('5c89fb74f75cb8143c935f1c'), '이름': '주지훈', '직업': '연예인'}\n",
      "{'_id': ObjectId('5c89fc1bf75cb8143c935f1d'), '이름': '표선영', '직업': '강사'}\n",
      "{'_id': ObjectId('5c89fc1bf75cb8143c935f1e'), '이름': '현빈', '직업': '연예인'}\n",
      "{'_id': ObjectId('5c89fc1bf75cb8143c935f21'), '이름': '현빈', '직업': 'IT개발자'}\n"
     ]
    }
   ],
   "source": [
    "for item in collection.find().sort('이름'):\n",
    "    print(item)"
   ]
  },
  {
   "cell_type": "code",
   "execution_count": null,
   "metadata": {
    "collapsed": true
   },
   "outputs": [],
   "source": [
    "#collection.update() #deprecated"
   ]
  },
  {
   "cell_type": "code",
   "execution_count": null,
   "metadata": {
    "collapsed": true
   },
   "outputs": [],
   "source": [
    "#collection.remove() #deprecated"
   ]
  },
  {
   "cell_type": "code",
   "execution_count": 19,
   "metadata": {},
   "outputs": [
    {
     "data": {
      "text/plain": [
       "<pymongo.results.DeleteResult at 0x6e4acc8>"
      ]
     },
     "execution_count": 19,
     "metadata": {},
     "output_type": "execute_result"
    }
   ],
   "source": [
    "collection.delete_one({'이름':'현빈'})"
   ]
  },
  {
   "cell_type": "code",
   "execution_count": 20,
   "metadata": {},
   "outputs": [
    {
     "name": "stdout",
     "output_type": "stream",
     "text": [
      "{'_id': ObjectId('5c89fc1bf75cb8143c935f1f'), '이름': '손예진', '직업': 'IT개발자'}\n",
      "{'_id': ObjectId('5c89fb55f75cb8143c935f1b'), '이름': '이진욱', '직업': 'IT운영자'}\n",
      "{'_id': ObjectId('5c89fc1bf75cb8143c935f20'), '이름': '조상우', '직업': '데이터분석자'}\n",
      "{'_id': ObjectId('5c89fb74f75cb8143c935f1c'), '이름': '주지훈', '직업': '연예인'}\n",
      "{'_id': ObjectId('5c89fc1bf75cb8143c935f1d'), '이름': '표선영', '직업': '강사'}\n",
      "{'_id': ObjectId('5c89fc1bf75cb8143c935f21'), '이름': '현빈', '직업': 'IT개발자'}\n"
     ]
    }
   ],
   "source": [
    "for item in collection.find().sort('이름'):\n",
    "    print(item)"
   ]
  },
  {
   "cell_type": "code",
   "execution_count": 21,
   "metadata": {},
   "outputs": [
    {
     "data": {
      "text/plain": [
       "<pymongo.results.DeleteResult at 0x6e56108>"
      ]
     },
     "execution_count": 21,
     "metadata": {},
     "output_type": "execute_result"
    }
   ],
   "source": [
    "collection.delete_many({'이름':'현빈'})"
   ]
  },
  {
   "cell_type": "code",
   "execution_count": 22,
   "metadata": {},
   "outputs": [
    {
     "name": "stdout",
     "output_type": "stream",
     "text": [
      "{'_id': ObjectId('5c89fc1bf75cb8143c935f1f'), '이름': '손예진', '직업': 'IT개발자'}\n",
      "{'_id': ObjectId('5c89fb55f75cb8143c935f1b'), '이름': '이진욱', '직업': 'IT운영자'}\n",
      "{'_id': ObjectId('5c89fc1bf75cb8143c935f20'), '이름': '조상우', '직업': '데이터분석자'}\n",
      "{'_id': ObjectId('5c89fb74f75cb8143c935f1c'), '이름': '주지훈', '직업': '연예인'}\n",
      "{'_id': ObjectId('5c89fc1bf75cb8143c935f1d'), '이름': '표선영', '직업': '강사'}\n"
     ]
    }
   ],
   "source": [
    "for item in collection.find().sort('이름'):\n",
    "    print(item)"
   ]
  },
  {
   "cell_type": "code",
   "execution_count": 23,
   "metadata": {},
   "outputs": [
    {
     "name": "stderr",
     "output_type": "stream",
     "text": [
      "C:\\Users\\student\\Anaconda3\\lib\\site-packages\\ipykernel_launcher.py:1: DeprecationWarning: count is deprecated. Use estimated_document_count or count_documents instead. Please note that $where must be replaced by $expr, $near must be replaced by $geoWithin with $center, and $nearSphere must be replaced by $geoWithin with $centerSphere\n",
      "  \"\"\"Entry point for launching an IPython kernel.\n"
     ]
    },
    {
     "data": {
      "text/plain": [
       "5"
      ]
     },
     "execution_count": 23,
     "metadata": {},
     "output_type": "execute_result"
    }
   ],
   "source": [
    "collection.count() "
   ]
  },
  {
   "cell_type": "code",
   "execution_count": 25,
   "metadata": {},
   "outputs": [
    {
     "data": {
      "text/plain": [
       "5"
      ]
     },
     "execution_count": 25,
     "metadata": {},
     "output_type": "execute_result"
    }
   ],
   "source": [
    "collection.count_documents({}) "
   ]
  },
  {
   "cell_type": "code",
   "execution_count": 26,
   "metadata": {},
   "outputs": [
    {
     "data": {
      "text/plain": [
       "0"
      ]
     },
     "execution_count": 26,
     "metadata": {},
     "output_type": "execute_result"
    }
   ],
   "source": [
    "collection.count_documents({'이름':'현빈'}) "
   ]
  },
  {
   "cell_type": "code",
   "execution_count": 27,
   "metadata": {},
   "outputs": [
    {
     "data": {
      "text/plain": [
       "1"
      ]
     },
     "execution_count": 27,
     "metadata": {},
     "output_type": "execute_result"
    }
   ],
   "source": [
    "collection.count_documents({'이름':'표선영'}) "
   ]
  },
  {
   "cell_type": "code",
   "execution_count": 28,
   "metadata": {
    "collapsed": true
   },
   "outputs": [],
   "source": [
    "collection.drop?"
   ]
  },
  {
   "cell_type": "code",
   "execution_count": 29,
   "metadata": {},
   "outputs": [
    {
     "data": {
      "text/plain": [
       "Collection(Database(MongoClient(host=['localhost:27017'], document_class=dict, tz_aware=False, connect=True), 'sample'), 'test')"
      ]
     },
     "execution_count": 29,
     "metadata": {},
     "output_type": "execute_result"
    }
   ],
   "source": [
    "collection"
   ]
  },
  {
   "cell_type": "code",
   "execution_count": 30,
   "metadata": {},
   "outputs": [
    {
     "data": {
      "text/plain": [
       "{'nIndexesWas': 1, 'ns': 'sample.test', 'ok': 1.0}"
      ]
     },
     "execution_count": 30,
     "metadata": {},
     "output_type": "execute_result"
    }
   ],
   "source": [
    "db.drop_collection(collection) "
   ]
  },
  {
   "cell_type": "code",
   "execution_count": 31,
   "metadata": {
    "collapsed": true
   },
   "outputs": [],
   "source": [
    "client.drop_database(db) "
   ]
  },
  {
   "cell_type": "code",
   "execution_count": 32,
   "metadata": {},
   "outputs": [
    {
     "name": "stderr",
     "output_type": "stream",
     "text": [
      "C:\\Users\\student\\Anaconda3\\lib\\site-packages\\ipykernel_launcher.py:1: DeprecationWarning: database_names is deprecated. Use list_database_names instead.\n",
      "  \"\"\"Entry point for launching an IPython kernel.\n"
     ]
    },
    {
     "data": {
      "text/plain": [
       "['admin', 'config', 'local']"
      ]
     },
     "execution_count": 32,
     "metadata": {},
     "output_type": "execute_result"
    }
   ],
   "source": [
    "client.database_names() "
   ]
  },
  {
   "cell_type": "code",
   "execution_count": 33,
   "metadata": {},
   "outputs": [
    {
     "data": {
      "text/plain": [
       "['admin', 'config', 'local']"
      ]
     },
     "execution_count": 33,
     "metadata": {},
     "output_type": "execute_result"
    }
   ],
   "source": [
    "client.list_database_names() "
   ]
  },
  {
   "cell_type": "code",
   "execution_count": null,
   "metadata": {
    "collapsed": true
   },
   "outputs": [],
   "source": []
  }
 ],
 "metadata": {
  "kernelspec": {
   "display_name": "Python 3",
   "language": "python",
   "name": "python3"
  },
  "language_info": {
   "codemirror_mode": {
    "name": "ipython",
    "version": 3
   },
   "file_extension": ".py",
   "mimetype": "text/x-python",
   "name": "python",
   "nbconvert_exporter": "python",
   "pygments_lexer": "ipython3",
   "version": "3.6.3"
  }
 },
 "nbformat": 4,
 "nbformat_minor": 2
}
